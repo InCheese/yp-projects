{
 "cells": [
  {
   "cell_type": "markdown",
   "id": "a67c7144",
   "metadata": {
    "deletable": false,
    "editable": false,
    "id": "c81daeeb"
   },
   "source": [
    "# Исследование надежности заемщиков\n"
   ]
  },
  {
   "cell_type": "markdown",
   "id": "ddecdf7d",
   "metadata": {
    "deletable": false,
    "editable": false,
    "id": "744d7639"
   },
   "source": [
    "## Откройте таблицу и изучите общую информацию о данных"
   ]
  },
  {
   "cell_type": "markdown",
   "id": "600d0830",
   "metadata": {
    "deletable": false,
    "editable": false,
    "id": "e7a14c31"
   },
   "source": [
    "**Задание 1. Импортируйте библиотеку pandas. Считайте данные из csv-файла в датафрейм и сохраните в переменную `data`. Путь к файлу:**\n",
    "\n",
    "`/datasets/data.csv`"
   ]
  },
  {
   "cell_type": "code",
   "execution_count": 1,
   "id": "1bf94211",
   "metadata": {
    "deletable": false,
    "id": "7bcf75c9"
   },
   "outputs": [],
   "source": [
    "import pandas as pd\n",
    "\n",
    "try:\n",
    "    data = pd.read_csv('/datasets/data.csv')\n",
    "except:\n",
    "    data = pd.read_csv('https://code.s3.yandex.net/datasets/data.csv')"
   ]
  },
  {
   "cell_type": "markdown",
   "id": "06e4ada8",
   "metadata": {
    "deletable": false,
    "editable": false,
    "id": "b8038fe3"
   },
   "source": [
    "**Задание 2. Выведите первые 20 строчек датафрейма `data` на экран.**"
   ]
  },
  {
   "cell_type": "code",
   "execution_count": 2,
   "id": "6bc966d6",
   "metadata": {
    "deletable": false,
    "id": "2a7cab99",
    "outputId": "1a8f3ef2-d323-4ec2-ddf7-89670b5944c4"
   },
   "outputs": [
    {
     "data": {
      "text/html": [
       "<div>\n",
       "<style scoped>\n",
       "    .dataframe tbody tr th:only-of-type {\n",
       "        vertical-align: middle;\n",
       "    }\n",
       "\n",
       "    .dataframe tbody tr th {\n",
       "        vertical-align: top;\n",
       "    }\n",
       "\n",
       "    .dataframe thead th {\n",
       "        text-align: right;\n",
       "    }\n",
       "</style>\n",
       "<table border=\"1\" class=\"dataframe\">\n",
       "  <thead>\n",
       "    <tr style=\"text-align: right;\">\n",
       "      <th></th>\n",
       "      <th>children</th>\n",
       "      <th>days_employed</th>\n",
       "      <th>dob_years</th>\n",
       "      <th>education</th>\n",
       "      <th>education_id</th>\n",
       "      <th>family_status</th>\n",
       "      <th>family_status_id</th>\n",
       "      <th>gender</th>\n",
       "      <th>income_type</th>\n",
       "      <th>debt</th>\n",
       "      <th>total_income</th>\n",
       "      <th>purpose</th>\n",
       "    </tr>\n",
       "  </thead>\n",
       "  <tbody>\n",
       "    <tr>\n",
       "      <th>0</th>\n",
       "      <td>1</td>\n",
       "      <td>-8437.673028</td>\n",
       "      <td>42</td>\n",
       "      <td>высшее</td>\n",
       "      <td>0</td>\n",
       "      <td>женат / замужем</td>\n",
       "      <td>0</td>\n",
       "      <td>F</td>\n",
       "      <td>сотрудник</td>\n",
       "      <td>0</td>\n",
       "      <td>253875.639453</td>\n",
       "      <td>покупка жилья</td>\n",
       "    </tr>\n",
       "    <tr>\n",
       "      <th>1</th>\n",
       "      <td>1</td>\n",
       "      <td>-4024.803754</td>\n",
       "      <td>36</td>\n",
       "      <td>среднее</td>\n",
       "      <td>1</td>\n",
       "      <td>женат / замужем</td>\n",
       "      <td>0</td>\n",
       "      <td>F</td>\n",
       "      <td>сотрудник</td>\n",
       "      <td>0</td>\n",
       "      <td>112080.014102</td>\n",
       "      <td>приобретение автомобиля</td>\n",
       "    </tr>\n",
       "    <tr>\n",
       "      <th>2</th>\n",
       "      <td>0</td>\n",
       "      <td>-5623.422610</td>\n",
       "      <td>33</td>\n",
       "      <td>Среднее</td>\n",
       "      <td>1</td>\n",
       "      <td>женат / замужем</td>\n",
       "      <td>0</td>\n",
       "      <td>M</td>\n",
       "      <td>сотрудник</td>\n",
       "      <td>0</td>\n",
       "      <td>145885.952297</td>\n",
       "      <td>покупка жилья</td>\n",
       "    </tr>\n",
       "    <tr>\n",
       "      <th>3</th>\n",
       "      <td>3</td>\n",
       "      <td>-4124.747207</td>\n",
       "      <td>32</td>\n",
       "      <td>среднее</td>\n",
       "      <td>1</td>\n",
       "      <td>женат / замужем</td>\n",
       "      <td>0</td>\n",
       "      <td>M</td>\n",
       "      <td>сотрудник</td>\n",
       "      <td>0</td>\n",
       "      <td>267628.550329</td>\n",
       "      <td>дополнительное образование</td>\n",
       "    </tr>\n",
       "    <tr>\n",
       "      <th>4</th>\n",
       "      <td>0</td>\n",
       "      <td>340266.072047</td>\n",
       "      <td>53</td>\n",
       "      <td>среднее</td>\n",
       "      <td>1</td>\n",
       "      <td>гражданский брак</td>\n",
       "      <td>1</td>\n",
       "      <td>F</td>\n",
       "      <td>пенсионер</td>\n",
       "      <td>0</td>\n",
       "      <td>158616.077870</td>\n",
       "      <td>сыграть свадьбу</td>\n",
       "    </tr>\n",
       "    <tr>\n",
       "      <th>5</th>\n",
       "      <td>0</td>\n",
       "      <td>-926.185831</td>\n",
       "      <td>27</td>\n",
       "      <td>высшее</td>\n",
       "      <td>0</td>\n",
       "      <td>гражданский брак</td>\n",
       "      <td>1</td>\n",
       "      <td>M</td>\n",
       "      <td>компаньон</td>\n",
       "      <td>0</td>\n",
       "      <td>255763.565419</td>\n",
       "      <td>покупка жилья</td>\n",
       "    </tr>\n",
       "    <tr>\n",
       "      <th>6</th>\n",
       "      <td>0</td>\n",
       "      <td>-2879.202052</td>\n",
       "      <td>43</td>\n",
       "      <td>высшее</td>\n",
       "      <td>0</td>\n",
       "      <td>женат / замужем</td>\n",
       "      <td>0</td>\n",
       "      <td>F</td>\n",
       "      <td>компаньон</td>\n",
       "      <td>0</td>\n",
       "      <td>240525.971920</td>\n",
       "      <td>операции с жильем</td>\n",
       "    </tr>\n",
       "    <tr>\n",
       "      <th>7</th>\n",
       "      <td>0</td>\n",
       "      <td>-152.779569</td>\n",
       "      <td>50</td>\n",
       "      <td>СРЕДНЕЕ</td>\n",
       "      <td>1</td>\n",
       "      <td>женат / замужем</td>\n",
       "      <td>0</td>\n",
       "      <td>M</td>\n",
       "      <td>сотрудник</td>\n",
       "      <td>0</td>\n",
       "      <td>135823.934197</td>\n",
       "      <td>образование</td>\n",
       "    </tr>\n",
       "    <tr>\n",
       "      <th>8</th>\n",
       "      <td>2</td>\n",
       "      <td>-6929.865299</td>\n",
       "      <td>35</td>\n",
       "      <td>ВЫСШЕЕ</td>\n",
       "      <td>0</td>\n",
       "      <td>гражданский брак</td>\n",
       "      <td>1</td>\n",
       "      <td>F</td>\n",
       "      <td>сотрудник</td>\n",
       "      <td>0</td>\n",
       "      <td>95856.832424</td>\n",
       "      <td>на проведение свадьбы</td>\n",
       "    </tr>\n",
       "    <tr>\n",
       "      <th>9</th>\n",
       "      <td>0</td>\n",
       "      <td>-2188.756445</td>\n",
       "      <td>41</td>\n",
       "      <td>среднее</td>\n",
       "      <td>1</td>\n",
       "      <td>женат / замужем</td>\n",
       "      <td>0</td>\n",
       "      <td>M</td>\n",
       "      <td>сотрудник</td>\n",
       "      <td>0</td>\n",
       "      <td>144425.938277</td>\n",
       "      <td>покупка жилья для семьи</td>\n",
       "    </tr>\n",
       "    <tr>\n",
       "      <th>10</th>\n",
       "      <td>2</td>\n",
       "      <td>-4171.483647</td>\n",
       "      <td>36</td>\n",
       "      <td>высшее</td>\n",
       "      <td>0</td>\n",
       "      <td>женат / замужем</td>\n",
       "      <td>0</td>\n",
       "      <td>M</td>\n",
       "      <td>компаньон</td>\n",
       "      <td>0</td>\n",
       "      <td>113943.491460</td>\n",
       "      <td>покупка недвижимости</td>\n",
       "    </tr>\n",
       "    <tr>\n",
       "      <th>11</th>\n",
       "      <td>0</td>\n",
       "      <td>-792.701887</td>\n",
       "      <td>40</td>\n",
       "      <td>среднее</td>\n",
       "      <td>1</td>\n",
       "      <td>женат / замужем</td>\n",
       "      <td>0</td>\n",
       "      <td>F</td>\n",
       "      <td>сотрудник</td>\n",
       "      <td>0</td>\n",
       "      <td>77069.234271</td>\n",
       "      <td>покупка коммерческой недвижимости</td>\n",
       "    </tr>\n",
       "    <tr>\n",
       "      <th>12</th>\n",
       "      <td>0</td>\n",
       "      <td>NaN</td>\n",
       "      <td>65</td>\n",
       "      <td>среднее</td>\n",
       "      <td>1</td>\n",
       "      <td>гражданский брак</td>\n",
       "      <td>1</td>\n",
       "      <td>M</td>\n",
       "      <td>пенсионер</td>\n",
       "      <td>0</td>\n",
       "      <td>NaN</td>\n",
       "      <td>сыграть свадьбу</td>\n",
       "    </tr>\n",
       "    <tr>\n",
       "      <th>13</th>\n",
       "      <td>0</td>\n",
       "      <td>-1846.641941</td>\n",
       "      <td>54</td>\n",
       "      <td>неоконченное высшее</td>\n",
       "      <td>2</td>\n",
       "      <td>женат / замужем</td>\n",
       "      <td>0</td>\n",
       "      <td>F</td>\n",
       "      <td>сотрудник</td>\n",
       "      <td>0</td>\n",
       "      <td>130458.228857</td>\n",
       "      <td>приобретение автомобиля</td>\n",
       "    </tr>\n",
       "    <tr>\n",
       "      <th>14</th>\n",
       "      <td>0</td>\n",
       "      <td>-1844.956182</td>\n",
       "      <td>56</td>\n",
       "      <td>высшее</td>\n",
       "      <td>0</td>\n",
       "      <td>гражданский брак</td>\n",
       "      <td>1</td>\n",
       "      <td>F</td>\n",
       "      <td>компаньон</td>\n",
       "      <td>1</td>\n",
       "      <td>165127.911772</td>\n",
       "      <td>покупка жилой недвижимости</td>\n",
       "    </tr>\n",
       "    <tr>\n",
       "      <th>15</th>\n",
       "      <td>1</td>\n",
       "      <td>-972.364419</td>\n",
       "      <td>26</td>\n",
       "      <td>среднее</td>\n",
       "      <td>1</td>\n",
       "      <td>женат / замужем</td>\n",
       "      <td>0</td>\n",
       "      <td>F</td>\n",
       "      <td>сотрудник</td>\n",
       "      <td>0</td>\n",
       "      <td>116820.904450</td>\n",
       "      <td>строительство собственной недвижимости</td>\n",
       "    </tr>\n",
       "    <tr>\n",
       "      <th>16</th>\n",
       "      <td>0</td>\n",
       "      <td>-1719.934226</td>\n",
       "      <td>35</td>\n",
       "      <td>среднее</td>\n",
       "      <td>1</td>\n",
       "      <td>женат / замужем</td>\n",
       "      <td>0</td>\n",
       "      <td>F</td>\n",
       "      <td>сотрудник</td>\n",
       "      <td>0</td>\n",
       "      <td>289202.704229</td>\n",
       "      <td>недвижимость</td>\n",
       "    </tr>\n",
       "    <tr>\n",
       "      <th>17</th>\n",
       "      <td>0</td>\n",
       "      <td>-2369.999720</td>\n",
       "      <td>33</td>\n",
       "      <td>высшее</td>\n",
       "      <td>0</td>\n",
       "      <td>гражданский брак</td>\n",
       "      <td>1</td>\n",
       "      <td>M</td>\n",
       "      <td>сотрудник</td>\n",
       "      <td>0</td>\n",
       "      <td>90410.586745</td>\n",
       "      <td>строительство недвижимости</td>\n",
       "    </tr>\n",
       "    <tr>\n",
       "      <th>18</th>\n",
       "      <td>0</td>\n",
       "      <td>400281.136913</td>\n",
       "      <td>53</td>\n",
       "      <td>среднее</td>\n",
       "      <td>1</td>\n",
       "      <td>вдовец / вдова</td>\n",
       "      <td>2</td>\n",
       "      <td>F</td>\n",
       "      <td>пенсионер</td>\n",
       "      <td>0</td>\n",
       "      <td>56823.777243</td>\n",
       "      <td>на покупку подержанного автомобиля</td>\n",
       "    </tr>\n",
       "    <tr>\n",
       "      <th>19</th>\n",
       "      <td>0</td>\n",
       "      <td>-10038.818549</td>\n",
       "      <td>48</td>\n",
       "      <td>СРЕДНЕЕ</td>\n",
       "      <td>1</td>\n",
       "      <td>в разводе</td>\n",
       "      <td>3</td>\n",
       "      <td>F</td>\n",
       "      <td>сотрудник</td>\n",
       "      <td>0</td>\n",
       "      <td>242831.107982</td>\n",
       "      <td>на покупку своего автомобиля</td>\n",
       "    </tr>\n",
       "  </tbody>\n",
       "</table>\n",
       "</div>"
      ],
      "text/plain": [
       "    children  days_employed  dob_years            education  education_id  \\\n",
       "0          1   -8437.673028         42               высшее             0   \n",
       "1          1   -4024.803754         36              среднее             1   \n",
       "2          0   -5623.422610         33              Среднее             1   \n",
       "3          3   -4124.747207         32              среднее             1   \n",
       "4          0  340266.072047         53              среднее             1   \n",
       "5          0    -926.185831         27               высшее             0   \n",
       "6          0   -2879.202052         43               высшее             0   \n",
       "7          0    -152.779569         50              СРЕДНЕЕ             1   \n",
       "8          2   -6929.865299         35               ВЫСШЕЕ             0   \n",
       "9          0   -2188.756445         41              среднее             1   \n",
       "10         2   -4171.483647         36               высшее             0   \n",
       "11         0    -792.701887         40              среднее             1   \n",
       "12         0            NaN         65              среднее             1   \n",
       "13         0   -1846.641941         54  неоконченное высшее             2   \n",
       "14         0   -1844.956182         56               высшее             0   \n",
       "15         1    -972.364419         26              среднее             1   \n",
       "16         0   -1719.934226         35              среднее             1   \n",
       "17         0   -2369.999720         33               высшее             0   \n",
       "18         0  400281.136913         53              среднее             1   \n",
       "19         0  -10038.818549         48              СРЕДНЕЕ             1   \n",
       "\n",
       "       family_status  family_status_id gender income_type  debt  \\\n",
       "0    женат / замужем                 0      F   сотрудник     0   \n",
       "1    женат / замужем                 0      F   сотрудник     0   \n",
       "2    женат / замужем                 0      M   сотрудник     0   \n",
       "3    женат / замужем                 0      M   сотрудник     0   \n",
       "4   гражданский брак                 1      F   пенсионер     0   \n",
       "5   гражданский брак                 1      M   компаньон     0   \n",
       "6    женат / замужем                 0      F   компаньон     0   \n",
       "7    женат / замужем                 0      M   сотрудник     0   \n",
       "8   гражданский брак                 1      F   сотрудник     0   \n",
       "9    женат / замужем                 0      M   сотрудник     0   \n",
       "10   женат / замужем                 0      M   компаньон     0   \n",
       "11   женат / замужем                 0      F   сотрудник     0   \n",
       "12  гражданский брак                 1      M   пенсионер     0   \n",
       "13   женат / замужем                 0      F   сотрудник     0   \n",
       "14  гражданский брак                 1      F   компаньон     1   \n",
       "15   женат / замужем                 0      F   сотрудник     0   \n",
       "16   женат / замужем                 0      F   сотрудник     0   \n",
       "17  гражданский брак                 1      M   сотрудник     0   \n",
       "18    вдовец / вдова                 2      F   пенсионер     0   \n",
       "19         в разводе                 3      F   сотрудник     0   \n",
       "\n",
       "     total_income                                 purpose  \n",
       "0   253875.639453                           покупка жилья  \n",
       "1   112080.014102                 приобретение автомобиля  \n",
       "2   145885.952297                           покупка жилья  \n",
       "3   267628.550329              дополнительное образование  \n",
       "4   158616.077870                         сыграть свадьбу  \n",
       "5   255763.565419                           покупка жилья  \n",
       "6   240525.971920                       операции с жильем  \n",
       "7   135823.934197                             образование  \n",
       "8    95856.832424                   на проведение свадьбы  \n",
       "9   144425.938277                 покупка жилья для семьи  \n",
       "10  113943.491460                    покупка недвижимости  \n",
       "11   77069.234271       покупка коммерческой недвижимости  \n",
       "12            NaN                         сыграть свадьбу  \n",
       "13  130458.228857                 приобретение автомобиля  \n",
       "14  165127.911772              покупка жилой недвижимости  \n",
       "15  116820.904450  строительство собственной недвижимости  \n",
       "16  289202.704229                            недвижимость  \n",
       "17   90410.586745              строительство недвижимости  \n",
       "18   56823.777243      на покупку подержанного автомобиля  \n",
       "19  242831.107982            на покупку своего автомобиля  "
      ]
     },
     "execution_count": 2,
     "metadata": {},
     "output_type": "execute_result"
    }
   ],
   "source": [
    "data.head(20)"
   ]
  },
  {
   "cell_type": "markdown",
   "id": "e2669eaa",
   "metadata": {
    "deletable": false,
    "editable": false,
    "id": "1c12e233"
   },
   "source": [
    "**Задание 3. Выведите основную информацию о датафрейме с помощью метода `info()`.**"
   ]
  },
  {
   "cell_type": "code",
   "execution_count": 3,
   "id": "ac0a62fc",
   "metadata": {
    "deletable": false,
    "id": "2b757bca",
    "outputId": "15376089-8dad-46c9-b520-c05248d43158"
   },
   "outputs": [
    {
     "name": "stdout",
     "output_type": "stream",
     "text": [
      "<class 'pandas.core.frame.DataFrame'>\n",
      "RangeIndex: 21525 entries, 0 to 21524\n",
      "Data columns (total 12 columns):\n",
      " #   Column            Non-Null Count  Dtype  \n",
      "---  ------            --------------  -----  \n",
      " 0   children          21525 non-null  int64  \n",
      " 1   days_employed     19351 non-null  float64\n",
      " 2   dob_years         21525 non-null  int64  \n",
      " 3   education         21525 non-null  object \n",
      " 4   education_id      21525 non-null  int64  \n",
      " 5   family_status     21525 non-null  object \n",
      " 6   family_status_id  21525 non-null  int64  \n",
      " 7   gender            21525 non-null  object \n",
      " 8   income_type       21525 non-null  object \n",
      " 9   debt              21525 non-null  int64  \n",
      " 10  total_income      19351 non-null  float64\n",
      " 11  purpose           21525 non-null  object \n",
      "dtypes: float64(2), int64(5), object(5)\n",
      "memory usage: 2.0+ MB\n"
     ]
    }
   ],
   "source": [
    "data.info()"
   ]
  },
  {
   "cell_type": "markdown",
   "id": "d2523d12",
   "metadata": {
    "deletable": false,
    "editable": false,
    "id": "333ec665"
   },
   "source": [
    "## Предобработка данных"
   ]
  },
  {
   "cell_type": "markdown",
   "id": "ffe4843d",
   "metadata": {
    "deletable": false,
    "editable": false,
    "id": "02d92d53"
   },
   "source": [
    "### Удаление пропусков"
   ]
  },
  {
   "cell_type": "markdown",
   "id": "3dcf7583",
   "metadata": {
    "deletable": false,
    "editable": false,
    "id": "cd84967c"
   },
   "source": [
    "**Задание 4. Выведите количество пропущенных значений для каждого столбца. Используйте комбинацию двух методов.**"
   ]
  },
  {
   "cell_type": "code",
   "execution_count": 4,
   "id": "2ccc6a57",
   "metadata": {
    "deletable": false,
    "id": "7f9b2309",
    "outputId": "81f4d817-781c-465c-ed15-91ce4446810d"
   },
   "outputs": [
    {
     "data": {
      "text/plain": [
       "children               0\n",
       "days_employed       2174\n",
       "dob_years              0\n",
       "education              0\n",
       "education_id           0\n",
       "family_status          0\n",
       "family_status_id       0\n",
       "gender                 0\n",
       "income_type            0\n",
       "debt                   0\n",
       "total_income        2174\n",
       "purpose                0\n",
       "dtype: int64"
      ]
     },
     "execution_count": 4,
     "metadata": {},
     "output_type": "execute_result"
    }
   ],
   "source": [
    "data.isna().sum()"
   ]
  },
  {
   "cell_type": "markdown",
   "id": "d64c4fbf",
   "metadata": {
    "deletable": false,
    "editable": false,
    "id": "db86e27b"
   },
   "source": [
    "**Задание 5. В двух столбцах есть пропущенные значения. Один из них — `days_employed`. Пропуски в этом столбце вы обработаете на следующем этапе. Другой столбец с пропущенными значениями — `total_income` — хранит данные о доходах. На сумму дохода сильнее всего влияет тип занятости, поэтому заполнить пропуски в этом столбце нужно медианным значением по каждому типу из столбца `income_type`. Например, у человека с типом занятости `сотрудник` пропуск в столбце `total_income` должен быть заполнен медианным доходом среди всех записей с тем же типом.**"
   ]
  },
  {
   "cell_type": "code",
   "execution_count": 5,
   "id": "a11834e2",
   "metadata": {
    "deletable": false,
    "id": "42006a93"
   },
   "outputs": [],
   "source": [
    "for t in data['income_type'].unique():\n",
    "    data.loc[(data['income_type'] == t) & (data['total_income'].isna()), 'total_income'] = \\\n",
    "    data.loc[(data['income_type'] == t), 'total_income'].median()"
   ]
  },
  {
   "cell_type": "markdown",
   "id": "06cd4451",
   "metadata": {
    "deletable": false,
    "editable": false,
    "id": "89da5ece"
   },
   "source": [
    "### Обработка аномальных значений"
   ]
  },
  {
   "cell_type": "markdown",
   "id": "3cfde008",
   "metadata": {
    "deletable": false,
    "editable": false,
    "id": "57964554"
   },
   "source": [
    "**Задание 6. В данных могут встречаться артефакты (аномалии) — значения, которые не отражают действительность и появились по какой-то ошибке. таким артефактом будет отрицательное количество дней трудового стажа в столбце `days_employed`. Для реальных данных это нормально. Обработайте значения в этом столбце: замените все отрицательные значения положительными с помощью метода `abs()`.**"
   ]
  },
  {
   "cell_type": "code",
   "execution_count": 6,
   "id": "e49fccb7",
   "metadata": {
    "deletable": false,
    "id": "f6f055bf"
   },
   "outputs": [],
   "source": [
    "data['days_employed'] = data['days_employed'].abs()"
   ]
  },
  {
   "cell_type": "markdown",
   "id": "564f12e6",
   "metadata": {
    "deletable": false,
    "editable": false,
    "id": "6107dd2f"
   },
   "source": [
    "**Задание 7. Для каждого типа занятости выведите медианное значение трудового стажа `days_employed` в днях.**"
   ]
  },
  {
   "cell_type": "code",
   "execution_count": 7,
   "id": "e814e949",
   "metadata": {
    "deletable": false,
    "id": "85a5faf6",
    "outputId": "801ef80e-522b-4668-f34e-565af7432bcf"
   },
   "outputs": [
    {
     "data": {
      "text/plain": [
       "income_type\n",
       "безработный        366413.652744\n",
       "в декрете            3296.759962\n",
       "госслужащий          2689.368353\n",
       "компаньон            1547.382223\n",
       "пенсионер          365213.306266\n",
       "предприниматель       520.848083\n",
       "сотрудник            1574.202821\n",
       "студент               578.751554\n",
       "Name: days_employed, dtype: float64"
      ]
     },
     "execution_count": 7,
     "metadata": {},
     "output_type": "execute_result"
    }
   ],
   "source": [
    "data.groupby('income_type')['days_employed'].agg('median')"
   ]
  },
  {
   "cell_type": "markdown",
   "id": "4a25b129",
   "metadata": {
    "deletable": false,
    "editable": false,
    "id": "38d1a030"
   },
   "source": [
    "У двух типов (безработные и пенсионеры) получатся аномально большие значения. Исправить такие значения сложно, поэтому оставьте их как есть. Тем более этот столбец не понадобится вам для исследования."
   ]
  },
  {
   "cell_type": "markdown",
   "id": "999026b1",
   "metadata": {
    "deletable": false,
    "editable": false,
    "id": "d8a9f147"
   },
   "source": [
    "**Задание 8. Выведите перечень уникальных значений столбца `children`.**"
   ]
  },
  {
   "cell_type": "code",
   "execution_count": 8,
   "id": "de241819",
   "metadata": {
    "deletable": false,
    "id": "ef5056eb",
    "outputId": "6975b15c-7f95-4697-d16d-a0c79b657b03"
   },
   "outputs": [
    {
     "data": {
      "text/plain": [
       "array([ 1,  0,  3,  2, -1,  4, 20,  5])"
      ]
     },
     "execution_count": 8,
     "metadata": {},
     "output_type": "execute_result"
    }
   ],
   "source": [
    "data['children'].unique()"
   ]
  },
  {
   "cell_type": "markdown",
   "id": "fb578660",
   "metadata": {
    "deletable": false,
    "editable": false,
    "id": "40b9ebf2"
   },
   "source": [
    "**Задание 9. В столбце `children` есть два аномальных значения. Удалите строки, в которых встречаются такие аномальные значения из датафрейма `data`.**"
   ]
  },
  {
   "cell_type": "code",
   "execution_count": 9,
   "id": "5b76ea5e",
   "metadata": {
    "deletable": false,
    "id": "3ff9801d"
   },
   "outputs": [],
   "source": [
    "data = data[(data['children'] != -1) & (data['children'] != 20)]"
   ]
  },
  {
   "cell_type": "markdown",
   "id": "abe952b4",
   "metadata": {
    "deletable": false,
    "editable": false,
    "id": "bbc4d0ce"
   },
   "source": [
    "**Задание 10. Ещё раз выведите перечень уникальных значений столбца `children`, чтобы убедиться, что артефакты удалены.**"
   ]
  },
  {
   "cell_type": "code",
   "execution_count": 10,
   "id": "1ef099dc",
   "metadata": {
    "deletable": false,
    "id": "ad4fa8b7",
    "outputId": "b2097101-d49d-44d9-901b-32a65c9463d1"
   },
   "outputs": [
    {
     "data": {
      "text/plain": [
       "array([1, 0, 3, 2, 4, 5])"
      ]
     },
     "execution_count": 10,
     "metadata": {},
     "output_type": "execute_result"
    }
   ],
   "source": [
    "data['children'].unique()"
   ]
  },
  {
   "cell_type": "markdown",
   "id": "71a218f3",
   "metadata": {
    "deletable": false,
    "editable": false,
    "id": "75440b63"
   },
   "source": [
    "### Удаление пропусков (продолжение)"
   ]
  },
  {
   "cell_type": "markdown",
   "id": "97aa18bb",
   "metadata": {
    "deletable": false,
    "editable": false,
    "id": "f4ea573f"
   },
   "source": [
    "**Задание 11. Заполните пропуски в столбце `days_employed` медианными значениями по каждого типа занятости `income_type`.**"
   ]
  },
  {
   "cell_type": "code",
   "execution_count": 11,
   "id": "9b2d8d0e",
   "metadata": {
    "deletable": false,
    "id": "af6b1a7e"
   },
   "outputs": [],
   "source": [
    "for t in data['income_type'].unique():\n",
    "    data.loc[(data['income_type'] == t) & (data['days_employed'].isna()), 'days_employed'] = \\\n",
    "    data.loc[(data['income_type'] == t), 'days_employed'].median()"
   ]
  },
  {
   "cell_type": "markdown",
   "id": "293fd446",
   "metadata": {
    "deletable": false,
    "editable": false,
    "id": "2753f40d"
   },
   "source": [
    "**Задание 12. Убедитесь, что все пропуски заполнены. Проверьте себя и ещё раз выведите количество пропущенных значений для каждого столбца с помощью двух методов.**"
   ]
  },
  {
   "cell_type": "code",
   "execution_count": 12,
   "id": "be633183",
   "metadata": {
    "deletable": false,
    "id": "55f78bc2",
    "outputId": "8da1e4e1-358e-4e87-98c9-f261bce0a7b2"
   },
   "outputs": [
    {
     "data": {
      "text/plain": [
       "children            0\n",
       "days_employed       0\n",
       "dob_years           0\n",
       "education           0\n",
       "education_id        0\n",
       "family_status       0\n",
       "family_status_id    0\n",
       "gender              0\n",
       "income_type         0\n",
       "debt                0\n",
       "total_income        0\n",
       "purpose             0\n",
       "dtype: int64"
      ]
     },
     "execution_count": 12,
     "metadata": {},
     "output_type": "execute_result"
    }
   ],
   "source": [
    "data.isna().sum()"
   ]
  },
  {
   "cell_type": "markdown",
   "id": "78eb87a1",
   "metadata": {
    "deletable": false,
    "editable": false,
    "id": "ddc81e43"
   },
   "source": [
    "### Изменение типов данных"
   ]
  },
  {
   "cell_type": "markdown",
   "id": "ffa6a86b",
   "metadata": {
    "deletable": false,
    "editable": false,
    "id": "42d19d24"
   },
   "source": [
    "**Задание 13. Замените вещественный тип данных в столбце `total_income` на целочисленный с помощью метода `astype()`.**"
   ]
  },
  {
   "cell_type": "code",
   "execution_count": 13,
   "id": "2a7a57d7",
   "metadata": {
    "deletable": false,
    "id": "920b65ad"
   },
   "outputs": [],
   "source": [
    "data['total_income'] = data['total_income'].astype(int)"
   ]
  },
  {
   "cell_type": "markdown",
   "id": "981f456b",
   "metadata": {
    "deletable": false,
    "editable": false,
    "id": "80c420ba"
   },
   "source": [
    "### Обработка дубликатов"
   ]
  },
  {
   "cell_type": "markdown",
   "id": "74c54871",
   "metadata": {
    "deletable": false,
    "editable": false
   },
   "source": [
    "**Задание 14. Обработайте неявные дубликаты в столбце `education`. В этом столбце есть одни и те же значения, но записанные по-разному: с использованием заглавных и строчных букв. Приведите их к нижнему регистру. Проверьте остальные столбцы.**"
   ]
  },
  {
   "cell_type": "code",
   "execution_count": 14,
   "id": "7076cb57",
   "metadata": {
    "deletable": false
   },
   "outputs": [],
   "source": [
    "data['education'] = data['education'].str.lower()"
   ]
  },
  {
   "cell_type": "markdown",
   "id": "8b2eeaaa",
   "metadata": {
    "deletable": false,
    "editable": false,
    "id": "dc587695"
   },
   "source": [
    "**Задание 15. Выведите на экран количество строк-дубликатов в данных. Если такие строки присутствуют, удалите их.**"
   ]
  },
  {
   "cell_type": "code",
   "execution_count": 15,
   "id": "2b52e309",
   "metadata": {
    "deletable": false,
    "id": "3ee445e4",
    "outputId": "9684deba-1934-42d1-99e1-cda61740f822"
   },
   "outputs": [
    {
     "data": {
      "text/plain": [
       "71"
      ]
     },
     "execution_count": 15,
     "metadata": {},
     "output_type": "execute_result"
    }
   ],
   "source": [
    "data.duplicated().sum()"
   ]
  },
  {
   "cell_type": "code",
   "execution_count": 16,
   "id": "8f630238",
   "metadata": {
    "deletable": false,
    "id": "8575fe05"
   },
   "outputs": [],
   "source": [
    "data = data.drop_duplicates()"
   ]
  },
  {
   "cell_type": "markdown",
   "id": "b37fe2a9",
   "metadata": {
    "deletable": false,
    "editable": false,
    "id": "9904cf55"
   },
   "source": [
    "### Категоризация данных"
   ]
  },
  {
   "cell_type": "markdown",
   "id": "bb4a628f",
   "metadata": {
    "deletable": false,
    "editable": false,
    "id": "72fcc8a2"
   },
   "source": [
    "**Задание 16. На основании диапазонов, указанных ниже, создайте в датафрейме `data` столбец `total_income_category` с категориями:**\n",
    "\n",
    "- 0–30000 — `'E'`;\n",
    "- 30001–50000 — `'D'`;\n",
    "- 50001–200000 — `'C'`;\n",
    "- 200001–1000000 — `'B'`;\n",
    "- 1000001 и выше — `'A'`.\n",
    "\n",
    "\n",
    "**Например, кредитополучателю с доходом 25000 нужно назначить категорию `'E'`, а клиенту, получающему 235000, — `'B'`. Используйте собственную функцию с именем `categorize_income()` и метод `apply()`.**"
   ]
  },
  {
   "cell_type": "code",
   "execution_count": 17,
   "id": "9062f6cc",
   "metadata": {
    "deletable": false,
    "id": "e1771346"
   },
   "outputs": [],
   "source": [
    "def categorize_income(income):\n",
    "    try:\n",
    "        if 0 <= income <= 30000:\n",
    "            return 'E'\n",
    "        elif 30001 <= income <= 50000:\n",
    "            return 'D'\n",
    "        elif 50001 <= income <= 200000:\n",
    "            return 'C'\n",
    "        elif 200001 <= income <= 1000000:\n",
    "            return 'B'\n",
    "        elif income >= 1000001:\n",
    "            return 'A'\n",
    "    except:\n",
    "        pass"
   ]
  },
  {
   "cell_type": "code",
   "execution_count": 18,
   "id": "8b156c89",
   "metadata": {
    "deletable": false,
    "id": "d5f3586d"
   },
   "outputs": [],
   "source": [
    "data['total_income_category'] = data['total_income'].apply(categorize_income)"
   ]
  },
  {
   "cell_type": "markdown",
   "id": "ff60b697",
   "metadata": {
    "deletable": false,
    "editable": false,
    "id": "dde49b5c"
   },
   "source": [
    "**Задание 17. Выведите на экран перечень уникальных целей взятия кредита из столбца `purpose`.**"
   ]
  },
  {
   "cell_type": "code",
   "execution_count": 19,
   "id": "33dc45b4",
   "metadata": {
    "deletable": false,
    "id": "f67ce9b3",
    "outputId": "673c12d9-7d7e-4ae0-9812-c622c89dd244"
   },
   "outputs": [
    {
     "data": {
      "text/plain": [
       "array(['покупка жилья', 'приобретение автомобиля',\n",
       "       'дополнительное образование', 'сыграть свадьбу',\n",
       "       'операции с жильем', 'образование', 'на проведение свадьбы',\n",
       "       'покупка жилья для семьи', 'покупка недвижимости',\n",
       "       'покупка коммерческой недвижимости', 'покупка жилой недвижимости',\n",
       "       'строительство собственной недвижимости', 'недвижимость',\n",
       "       'строительство недвижимости', 'на покупку подержанного автомобиля',\n",
       "       'на покупку своего автомобиля',\n",
       "       'операции с коммерческой недвижимостью',\n",
       "       'строительство жилой недвижимости', 'жилье',\n",
       "       'операции со своей недвижимостью', 'автомобили',\n",
       "       'заняться образованием', 'сделка с подержанным автомобилем',\n",
       "       'получение образования', 'автомобиль', 'свадьба',\n",
       "       'получение дополнительного образования', 'покупка своего жилья',\n",
       "       'операции с недвижимостью', 'получение высшего образования',\n",
       "       'свой автомобиль', 'сделка с автомобилем',\n",
       "       'профильное образование', 'высшее образование',\n",
       "       'покупка жилья для сдачи', 'на покупку автомобиля', 'ремонт жилью',\n",
       "       'заняться высшим образованием'], dtype=object)"
      ]
     },
     "execution_count": 19,
     "metadata": {},
     "output_type": "execute_result"
    }
   ],
   "source": [
    "data['purpose'].unique()"
   ]
  },
  {
   "cell_type": "markdown",
   "id": "0a537bd5",
   "metadata": {
    "deletable": false,
    "editable": false,
    "id": "85d0aef0"
   },
   "source": [
    "**Задание 18. Создайте функцию, которая на основании данных из столбца `purpose` сформирует новый столбец `purpose_category`, в который войдут следующие категории:**\n",
    "\n",
    "- `'операции с автомобилем'`,\n",
    "- `'операции с недвижимостью'`,\n",
    "- `'проведение свадьбы'`,\n",
    "- `'получение образования'`.\n",
    "\n",
    "**Например, если в столбце `purpose` находится подстрока `'на покупку автомобиля'`, то в столбце `purpose_category` должна появиться строка `'операции с автомобилем'`.**\n",
    "\n",
    "**Используйте собственную функцию с именем `categorize_purpose()` и метод `apply()`. Изучите данные в столбце `purpose` и определите, какие подстроки помогут вам правильно определить категорию.**"
   ]
  },
  {
   "cell_type": "code",
   "execution_count": 20,
   "id": "a81d2082",
   "metadata": {
    "deletable": false,
    "id": "e149fab4"
   },
   "outputs": [],
   "source": [
    "def categorize_purpose(row):\n",
    "    try:\n",
    "        if 'автом' in row:\n",
    "            return 'операции с автомобилем'\n",
    "        elif 'жил' in row or 'недвиж' in row:\n",
    "            return 'операции с недвижимостью'\n",
    "        elif 'свад' in row:\n",
    "            return 'проведение свадьбы'\n",
    "        elif 'образов' in row:\n",
    "            return 'получение образования'\n",
    "    except:\n",
    "        return 'нет категории'"
   ]
  },
  {
   "cell_type": "code",
   "execution_count": 21,
   "id": "6d63235f",
   "metadata": {
    "deletable": false,
    "id": "bf36e69b"
   },
   "outputs": [],
   "source": [
    "data['purpose_category'] = data['purpose'].apply(categorize_purpose)"
   ]
  },
  {
   "cell_type": "markdown",
   "id": "4fff1bb9",
   "metadata": {
    "deletable": false,
    "editable": false,
    "id": "09b242bf"
   },
   "source": [
    "### Шаг 3. Исследуйте данные и ответьте на вопросы"
   ]
  },
  {
   "cell_type": "markdown",
   "id": "e5764085",
   "metadata": {
    "deletable": false,
    "editable": false,
    "id": "c5d66278"
   },
   "source": [
    "#### 3.1 Есть ли зависимость между количеством детей и возвратом кредита в срок?"
   ]
  },
  {
   "cell_type": "code",
   "execution_count": 54,
   "id": "4a66d84b",
   "metadata": {},
   "outputs": [
    {
     "name": "stdout",
     "output_type": "stream",
     "text": [
      "          count      mean\n",
      "children                 \n",
      "0         14091  7.543822\n",
      "1          4808  9.234609\n",
      "2          2052  9.454191\n",
      "3           330  8.181818\n",
      "4            41  9.756098\n",
      "5             9  0.000000\n"
     ]
    }
   ],
   "source": [
    "#создадим сводную таблицу по количеству детей и наличию долга\n",
    "data_pivot_ch2 = data.pivot_table(index='children', values='debt', aggfunc={'debt': [\"count\", \"mean\"]}, fill_value=0)\n",
    "data_pivot_ch2['mean'] = data_pivot_ch2['mean']*100\n",
    "print(data_pivot_ch2)"
   ]
  },
  {
   "cell_type": "markdown",
   "id": "73989e58",
   "metadata": {
    "deletable": false,
    "id": "3a6b99ec"
   },
   "source": [
    "**Вывод:** \n",
    "В данном случае оценка семей с 4 и 5 детьми не показательна, т.к. их всего 41 и 5 соответственно при общем количестве записей = 21331. Данные группы не будем учитывать. \n",
    "\n",
    "По остальным группам видим, что клиенты с двумя детьми и одним ребенком имели задолженность чаще остальных. Клиенты без детей просрачивают кредиты реже, чем семьи с детьми.\n",
    "\n",
    "\n"
   ]
  },
  {
   "cell_type": "markdown",
   "id": "5a0b8c4e",
   "metadata": {
    "deletable": false,
    "editable": false,
    "id": "97be82ca"
   },
   "source": [
    "#### 3.2 Есть ли зависимость между семейным положением и возвратом кредита в срок?"
   ]
  },
  {
   "cell_type": "code",
   "execution_count": null,
   "id": "8f1016f0",
   "metadata": {
    "deletable": false,
    "id": "dc3f7ee8"
   },
   "outputs": [],
   "source": [
    "#создадим датафрейм, в котором сохраним зависимость между семейным положением и возвратом кредита в срок\n",
    "data_debt_family = pd.DataFrame()\n",
    "\n",
    "#считаем количество в зависимости от семейного положения\n",
    "data_debt_family['count_by_family'] = data.groupby('family_status')['debt'].count()\n",
    "\n",
    "#cуммируем значения, чтобы узнать общее количество задолженностей в каждой группе\n",
    "data_debt_family['sum_debt'] = data.groupby('family_status')['debt'].sum()\n",
    "\n",
    "#для каждой группы находим отношение\n",
    "data_debt_family['ratio'] = data_debt_family['sum_debt']/data_debt_family['count_by_family'] \n",
    "\n",
    "\n",
    "print(data_debt_family.sort_values(by='ratio', ascending=False))"
   ]
  },
  {
   "cell_type": "code",
   "execution_count": null,
   "id": "59430753",
   "metadata": {},
   "outputs": [],
   "source": [
    "def categorize_marriage(row):\n",
    "    try:\n",
    "        if 'Не женат / не замужем' in row or 'гражданский брак' in row:\n",
    "            return 'не состоял(а) в браке'\n",
    "        elif 'женат / замужем' in row or 'в разводе' in row or 'вдовец / вдова' in row:\n",
    "            return 'состоял(а) в браке'\n",
    "    except:\n",
    "        return 'нет категории'"
   ]
  },
  {
   "cell_type": "code",
   "execution_count": null,
   "id": "1839dba2",
   "metadata": {},
   "outputs": [],
   "source": [
    "data['marriage_category'] = data['family_status'].apply(categorize_marriage)"
   ]
  },
  {
   "cell_type": "code",
   "execution_count": null,
   "id": "e990a866",
   "metadata": {},
   "outputs": [],
   "source": [
    "#создадим сводную таблицу по наличию официального брака\n",
    "marriage_pivot = data.pivot_table(index='marriage_category', values='debt')\n",
    "\n",
    "#получим процентное соотношение и округлим с помощью метода round()\n",
    "marriage_pivot['debt'] = (marriage_pivot['debt']*100).round()\n",
    "\n",
    "print(marriage_pivot)"
   ]
  },
  {
   "cell_type": "markdown",
   "id": "71c3c605",
   "metadata": {
    "deletable": false,
    "id": "1cef7837"
   },
   "source": [
    "**Вывод:** \n",
    "Холостые респонденты и люди в гражданском браке чаще остальных задерживают оплату кредита. Вдовцы/вдовы наоборот меньше задерживают внесение платежа по кредиту. Люди не состоявшие в официально зарегистрированных отношениях задерживают с оплатой кредита чаще, чем люди, состоявшие в браке."
   ]
  },
  {
   "cell_type": "markdown",
   "id": "c3c43584",
   "metadata": {
    "deletable": false,
    "editable": false,
    "id": "1e8b2fca"
   },
   "source": [
    "#### 3.3 Есть ли зависимость между уровнем дохода и возвратом кредита в срок?"
   ]
  },
  {
   "cell_type": "code",
   "execution_count": null,
   "id": "bc51f275",
   "metadata": {
    "deletable": false,
    "id": "cd7e3720"
   },
   "outputs": [],
   "source": [
    "#создадим датафрейм, в котором сохраним зависимость между уровнем дохода и возвратом кредита в срок\n",
    "data_debt_total = pd.DataFrame()\n",
    "\n",
    "#считаем количество в зависимости от уровня дохода\n",
    "data_debt_total['count_by_total'] = data.groupby('total_income_category')['debt'].count()\n",
    "\n",
    "#cуммируем значения, чтобы узнать общее количество задолженностей в каждой группе\n",
    "data_debt_total['sum_debt'] = data.groupby('total_income_category')['debt'].sum()\n",
    "\n",
    "#для каждой группы находим отношение\n",
    "data_debt_total['ratio'] = data_debt_total['sum_debt']/data_debt_total['count_by_total'] \n",
    "\n",
    "\n",
    "print(data_debt_total.sort_values(by='ratio', ascending=False))"
   ]
  },
  {
   "cell_type": "markdown",
   "id": "cad2ca78",
   "metadata": {
    "deletable": false,
    "id": "e8593def"
   },
   "source": [
    "**Вывод:** \n",
    "Не будем учитывать респондентов с уровнем дохода <30000 (категория 'E') и >1000000 (категория 'А'), т.к. их всего 22 и 25 соответственно при общем количестве записей = 21331.\n",
    "\n",
    "Клиенты с доходом от 30000 до 50000 чаще платят в срок, клиенты с доходом от 50000 до 200000 чаще задерживают оплату. "
   ]
  },
  {
   "cell_type": "markdown",
   "id": "3abef2a4",
   "metadata": {
    "deletable": false,
    "editable": false,
    "id": "99ecbd1f"
   },
   "source": [
    "#### 3.4 Как разные цели кредита влияют на его возврат в срок?"
   ]
  },
  {
   "cell_type": "code",
   "execution_count": null,
   "id": "fe300b22",
   "metadata": {
    "deletable": false,
    "id": "2b687290"
   },
   "outputs": [],
   "source": [
    "#создадим датафрейм, в котором сохраним зависимость между целью кредита и возвратом кредита в срок\n",
    "data_debt_purpose = pd.DataFrame()\n",
    "\n",
    "#считаем количество в зависимости от цели кредита\n",
    "data_debt_purpose['count_by_purpose'] = data.groupby('purpose_category')['debt'].count()\n",
    "\n",
    "#cуммируем значения, чтобы узнать общее количество задолженностей в каждой группе\n",
    "data_debt_purpose['sum_debt'] = data.groupby('purpose_category')['debt'].sum()\n",
    "\n",
    "#для каждой группы находим отношение\n",
    "data_debt_purpose['ratio'] = data_debt_purpose['sum_debt']/data_debt_purpose['count_by_purpose'] \n",
    "\n",
    "\n",
    "print(data_debt_purpose.sort_values(by='ratio', ascending=False))"
   ]
  },
  {
   "cell_type": "markdown",
   "id": "db5fd12e",
   "metadata": {
    "deletable": false,
    "id": "b4bb2ce6"
   },
   "source": [
    "**Вывод:** \n",
    "Кредиты на авто и образование просрачивают чаще, чем взятые на свадьбу и недвижимость."
   ]
  },
  {
   "cell_type": "markdown",
   "id": "2e4399b2",
   "metadata": {
    "deletable": false,
    "editable": false,
    "id": "09c3ac4c"
   },
   "source": [
    "#### 3.5 Приведите возможные причины появления пропусков в исходных данных."
   ]
  },
  {
   "cell_type": "markdown",
   "id": "9473c1d2",
   "metadata": {
    "deletable": false,
    "id": "9da2ceda"
   },
   "source": [
    "*Ответ:* \n",
    "Пропуски могут возникнут по технологическим причинам или из-за человеческого фактора.\n",
    "Технологические ошибки возникают при копировании, считывании, смене формата."
   ]
  },
  {
   "cell_type": "markdown",
   "id": "78eb5613",
   "metadata": {
    "deletable": false,
    "editable": false,
    "id": "7b0487d6"
   },
   "source": [
    "#### 3.6 Объясните, почему заполнить пропуски медианным значением — лучшее решение для количественных переменных."
   ]
  },
  {
   "cell_type": "markdown",
   "id": "09811760",
   "metadata": {
    "deletable": false,
    "id": "7ecf2b8e"
   },
   "source": [
    "*Ответ:* \n",
    "Пропуски в таких колонках обычно заполняют характерными значениями: средним арифметическим или медианой. Лучше использовать медиану, если в выборке есть выдающиеся значения, которые сместят среднее."
   ]
  },
  {
   "cell_type": "markdown",
   "id": "0ba09cd8",
   "metadata": {
    "deletable": false,
    "editable": false,
    "id": "6db5255a"
   },
   "source": [
    "### Шаг 4: общий вывод."
   ]
  },
  {
   "cell_type": "markdown",
   "id": "8f1647d5",
   "metadata": {},
   "source": [
    "Для анализа была проведена предобработка данных, а именно:\n",
    "\n",
    "1. Для трудового стажа были обработаны и приведены аномальные значения.\n",
    "\n",
    "2. В столбцах 'общий трудовой стаж в днях' и 'ежемесячный доход' имелись пропущенные значения у 10% записей. Пропуски были заполнены медианными значениями соответственно.\n",
    "\n",
    "3. В данных были обработаны и удалены дубликаты.\n",
    "\n",
    "4. Определили категории для уровня дохода и целей кредита и категоризовали данные.\n",
    "\n",
    "\n",
    "Проверили 4 гипотезы и установили:\n",
    "\n",
    "\n",
    "**1. Влияет ли количество детей на возврат кредита в срок?** Да, влияет. Клиенты без детей просрачивают реже, чем с детьми. Чаще остальных задолженность у семей с 1 и 2 детьми. При анализе не были учтены данные для семей с 4 и 5 детьми, т.к. их оказалось около 0,1% от общего количества записей.\n",
    "\n",
    "\n",
    "\n",
    "**2. Есть ли зависимость между семейным положением и возвратом кредита в срок?** Да, есть.\n",
    "Люди не состоявшие в официально зарегистрированных отношениях задерживают с оплатой кредита чаще, чем люди, бывавшие в браке.\n",
    "Холостые респонденты чаще остальных задерживают оплату кредита. Чуть меньше - клиенты, состоящие в гражданском браке. Меньше остальных внесение платежа по кредиту задерживают вдовцы/вдовы.\n",
    "\n",
    "\n",
    "**3. Есть ли зависимость между уровнем дохода и возвратом кредита в срок?** Клиенты с доходом от 30000 до 50000 чаще платят в срок, клиенты с доходом от 50000 до 200000 чаще задерживают оплату. Не учитывались респонденты с уровнем дохода <30000 (категория 'E') и >1000000 (категория 'А'), т.к. в сумме их около 0,2% от общего количества записей.\n",
    "\n",
    "\n",
    "\n",
    "**4. Как разные цели кредита влияют на его возврат в срок?**\n",
    "Кредиты на авто и образование просрачивают чаще, чем взятые на свадьбу и недвижимость.\n",
    "\n",
    "\n",
    "**Рекомендации для заказчика**\n",
    "Рекомендую выдавать кредиты клиентам, состоящим или состоявшим в официальном браке и клентам без детей, т.к. они лучше выплачивают кредиты.\n",
    "Клиенты, несостоявшие в официальном браке или имеющие 1 или 2 детей нуждаются в дополнительном скоринге, т.к. чаще остальных задерживают взнос по кредиту.\n"
   ]
  }
 ],
 "metadata": {
  "ExecuteTimeLog": [
   {
    "duration": 49,
    "start_time": "2024-02-27T08:16:06.129Z"
   },
   {
    "duration": 480,
    "start_time": "2024-02-27T08:16:17.622Z"
   },
   {
    "duration": 21,
    "start_time": "2024-02-27T08:16:18.632Z"
   },
   {
    "duration": 15,
    "start_time": "2024-02-27T08:16:19.612Z"
   },
   {
    "duration": 11,
    "start_time": "2024-02-27T08:16:21.581Z"
   },
   {
    "duration": 35,
    "start_time": "2024-02-27T08:16:22.630Z"
   },
   {
    "duration": 4,
    "start_time": "2024-02-27T08:16:23.919Z"
   },
   {
    "duration": 9,
    "start_time": "2024-02-27T08:16:24.881Z"
   },
   {
    "duration": 5,
    "start_time": "2024-02-27T08:16:26.424Z"
   },
   {
    "duration": 6,
    "start_time": "2024-02-27T08:16:27.587Z"
   },
   {
    "duration": 5,
    "start_time": "2024-02-27T08:16:28.921Z"
   },
   {
    "duration": 34,
    "start_time": "2024-02-27T08:16:30.630Z"
   },
   {
    "duration": 11,
    "start_time": "2024-02-27T08:16:32.066Z"
   },
   {
    "duration": 4,
    "start_time": "2024-02-27T08:16:33.508Z"
   },
   {
    "duration": 11,
    "start_time": "2024-02-27T08:16:35.212Z"
   },
   {
    "duration": 19,
    "start_time": "2024-02-27T08:16:37.310Z"
   },
   {
    "duration": 18,
    "start_time": "2024-02-27T08:16:38.104Z"
   },
   {
    "duration": 3,
    "start_time": "2024-02-27T08:16:40.456Z"
   },
   {
    "duration": 11,
    "start_time": "2024-02-27T08:16:41.048Z"
   },
   {
    "duration": 5,
    "start_time": "2024-02-27T08:16:42.556Z"
   },
   {
    "duration": 3,
    "start_time": "2024-02-27T08:16:44.423Z"
   },
   {
    "duration": 8,
    "start_time": "2024-02-27T08:16:45.371Z"
   },
   {
    "duration": 13,
    "start_time": "2024-02-27T08:16:47.983Z"
   },
   {
    "duration": 5,
    "start_time": "2024-02-27T08:17:28.693Z"
   },
   {
    "duration": 14,
    "start_time": "2024-02-27T08:48:44.772Z"
   },
   {
    "duration": 26,
    "start_time": "2024-02-27T08:50:23.425Z"
   },
   {
    "duration": 72,
    "start_time": "2024-02-27T08:50:27.404Z"
   },
   {
    "duration": 7,
    "start_time": "2024-02-27T08:50:31.235Z"
   },
   {
    "duration": 11,
    "start_time": "2024-02-27T08:51:16.327Z"
   },
   {
    "duration": 13,
    "start_time": "2024-02-27T08:51:53.878Z"
   },
   {
    "duration": 13,
    "start_time": "2024-02-27T08:51:58.598Z"
   },
   {
    "duration": 84,
    "start_time": "2024-02-27T08:52:09.709Z"
   },
   {
    "duration": 87,
    "start_time": "2024-02-27T08:52:15.137Z"
   },
   {
    "duration": 10,
    "start_time": "2024-02-27T08:52:17.673Z"
   },
   {
    "duration": 11,
    "start_time": "2024-02-27T08:57:08.651Z"
   },
   {
    "duration": 11,
    "start_time": "2024-02-27T08:57:25.397Z"
   },
   {
    "duration": 5,
    "start_time": "2024-02-27T08:58:04.855Z"
   },
   {
    "duration": 3,
    "start_time": "2024-02-27T08:59:34.207Z"
   },
   {
    "duration": 3,
    "start_time": "2024-02-27T08:59:42.639Z"
   },
   {
    "duration": 5,
    "start_time": "2024-02-27T09:00:16.444Z"
   },
   {
    "duration": 5,
    "start_time": "2024-02-27T09:01:50.003Z"
   },
   {
    "duration": 6,
    "start_time": "2024-02-27T09:03:22.996Z"
   },
   {
    "duration": 9,
    "start_time": "2024-02-27T09:05:54.321Z"
   },
   {
    "duration": 10,
    "start_time": "2024-02-27T09:07:46.519Z"
   },
   {
    "duration": 11,
    "start_time": "2024-02-27T09:07:58.742Z"
   },
   {
    "duration": 1503,
    "start_time": "2024-02-27T09:08:23.219Z"
   },
   {
    "duration": 10,
    "start_time": "2024-02-27T09:08:29.904Z"
   },
   {
    "duration": 0,
    "start_time": "2024-02-27T09:20:48.040Z"
   },
   {
    "duration": 1211,
    "start_time": "2024-02-27T09:20:49.167Z"
   },
   {
    "duration": 1611,
    "start_time": "2024-02-27T09:20:56.803Z"
   },
   {
    "duration": 1244,
    "start_time": "2024-02-27T09:21:46.032Z"
   },
   {
    "duration": 8,
    "start_time": "2024-02-27T09:22:16.845Z"
   },
   {
    "duration": 1159,
    "start_time": "2024-02-27T09:22:37.817Z"
   },
   {
    "duration": 1369,
    "start_time": "2024-02-27T09:23:22.109Z"
   },
   {
    "duration": 6,
    "start_time": "2024-02-27T09:24:29.660Z"
   },
   {
    "duration": 10,
    "start_time": "2024-02-27T10:58:21.144Z"
   },
   {
    "duration": 9,
    "start_time": "2024-02-27T10:58:25.283Z"
   },
   {
    "duration": 7,
    "start_time": "2024-02-27T10:58:27.260Z"
   },
   {
    "duration": 11,
    "start_time": "2024-02-27T11:00:16.838Z"
   },
   {
    "duration": 6,
    "start_time": "2024-02-27T11:00:23.220Z"
   },
   {
    "duration": 11,
    "start_time": "2024-02-27T11:03:03.830Z"
   },
   {
    "duration": 12,
    "start_time": "2024-02-27T11:05:00.480Z"
   },
   {
    "duration": 12,
    "start_time": "2024-02-27T11:05:07.822Z"
   },
   {
    "duration": 16,
    "start_time": "2024-02-27T11:07:17.847Z"
   },
   {
    "duration": 17,
    "start_time": "2024-02-27T11:09:35.211Z"
   },
   {
    "duration": 11,
    "start_time": "2024-02-27T11:09:40.718Z"
   },
   {
    "duration": 20,
    "start_time": "2024-02-27T11:10:02.487Z"
   },
   {
    "duration": 14,
    "start_time": "2024-02-27T11:12:18.537Z"
   },
   {
    "duration": 30,
    "start_time": "2024-02-27T11:19:59.659Z"
   },
   {
    "duration": 15,
    "start_time": "2024-02-27T11:20:23.238Z"
   },
   {
    "duration": 13,
    "start_time": "2024-02-27T11:21:13.570Z"
   },
   {
    "duration": 12,
    "start_time": "2024-02-27T11:24:44.533Z"
   },
   {
    "duration": 14,
    "start_time": "2024-02-27T11:24:47.482Z"
   },
   {
    "duration": 21,
    "start_time": "2024-02-27T11:24:49.228Z"
   },
   {
    "duration": 13,
    "start_time": "2024-02-27T11:26:02.982Z"
   },
   {
    "duration": 13,
    "start_time": "2024-02-27T11:26:09.056Z"
   },
   {
    "duration": 13,
    "start_time": "2024-02-27T11:26:19.283Z"
   },
   {
    "duration": 19,
    "start_time": "2024-02-27T11:33:47.617Z"
   },
   {
    "duration": 15,
    "start_time": "2024-02-27T11:53:38.957Z"
   },
   {
    "duration": 80,
    "start_time": "2024-02-27T21:25:08.339Z"
   },
   {
    "duration": 104,
    "start_time": "2024-02-28T17:37:15.300Z"
   },
   {
    "duration": 74,
    "start_time": "2024-02-28T17:37:55.016Z"
   },
   {
    "duration": 83,
    "start_time": "2024-02-28T17:38:29.462Z"
   },
   {
    "duration": 40,
    "start_time": "2024-02-28T17:44:07.068Z"
   },
   {
    "duration": 5,
    "start_time": "2024-02-28T17:44:14.856Z"
   },
   {
    "duration": 627,
    "start_time": "2024-02-28T17:44:39.912Z"
   },
   {
    "duration": 21,
    "start_time": "2024-02-28T17:44:40.541Z"
   },
   {
    "duration": 13,
    "start_time": "2024-02-28T17:44:40.564Z"
   },
   {
    "duration": 10,
    "start_time": "2024-02-28T17:44:40.578Z"
   },
   {
    "duration": 34,
    "start_time": "2024-02-28T17:44:40.590Z"
   },
   {
    "duration": 4,
    "start_time": "2024-02-28T17:44:40.625Z"
   },
   {
    "duration": 28,
    "start_time": "2024-02-28T17:44:40.630Z"
   },
   {
    "duration": 3,
    "start_time": "2024-02-28T17:44:40.660Z"
   },
   {
    "duration": 8,
    "start_time": "2024-02-28T17:44:40.664Z"
   },
   {
    "duration": 6,
    "start_time": "2024-02-28T17:44:40.673Z"
   },
   {
    "duration": 32,
    "start_time": "2024-02-28T17:44:40.680Z"
   },
   {
    "duration": 8,
    "start_time": "2024-02-28T17:44:40.713Z"
   },
   {
    "duration": 3,
    "start_time": "2024-02-28T17:44:40.722Z"
   },
   {
    "duration": 35,
    "start_time": "2024-02-28T17:44:40.727Z"
   },
   {
    "duration": 19,
    "start_time": "2024-02-28T17:44:40.763Z"
   },
   {
    "duration": 17,
    "start_time": "2024-02-28T17:44:40.783Z"
   },
   {
    "duration": 3,
    "start_time": "2024-02-28T17:44:40.802Z"
   },
   {
    "duration": 25,
    "start_time": "2024-02-28T17:44:40.807Z"
   },
   {
    "duration": 8,
    "start_time": "2024-02-28T17:44:40.833Z"
   },
   {
    "duration": 3,
    "start_time": "2024-02-28T17:44:40.842Z"
   },
   {
    "duration": 10,
    "start_time": "2024-02-28T17:44:40.857Z"
   },
   {
    "duration": 11,
    "start_time": "2024-02-28T17:44:40.869Z"
   },
   {
    "duration": 84,
    "start_time": "2024-02-28T17:44:40.882Z"
   },
   {
    "duration": 0,
    "start_time": "2024-02-28T17:44:40.967Z"
   },
   {
    "duration": 0,
    "start_time": "2024-02-28T17:44:40.968Z"
   },
   {
    "duration": 0,
    "start_time": "2024-02-28T17:44:40.969Z"
   },
   {
    "duration": 7,
    "start_time": "2024-02-28T17:44:45.851Z"
   },
   {
    "duration": 12,
    "start_time": "2024-02-28T17:45:19.433Z"
   },
   {
    "duration": 11,
    "start_time": "2024-02-28T18:02:54.883Z"
   },
   {
    "duration": 93,
    "start_time": "2024-02-29T04:34:36.418Z"
   },
   {
    "duration": 50,
    "start_time": "2024-02-29T04:34:41.662Z"
   },
   {
    "duration": 496,
    "start_time": "2024-02-29T04:34:48.661Z"
   },
   {
    "duration": 20,
    "start_time": "2024-02-29T04:34:49.159Z"
   },
   {
    "duration": 15,
    "start_time": "2024-02-29T04:34:49.181Z"
   },
   {
    "duration": 10,
    "start_time": "2024-02-29T04:34:49.197Z"
   },
   {
    "duration": 34,
    "start_time": "2024-02-29T04:34:49.209Z"
   },
   {
    "duration": 3,
    "start_time": "2024-02-29T04:34:49.266Z"
   },
   {
    "duration": 11,
    "start_time": "2024-02-29T04:34:49.271Z"
   },
   {
    "duration": 5,
    "start_time": "2024-02-29T04:34:49.284Z"
   },
   {
    "duration": 11,
    "start_time": "2024-02-29T04:34:49.290Z"
   },
   {
    "duration": 4,
    "start_time": "2024-02-29T04:34:49.303Z"
   },
   {
    "duration": 59,
    "start_time": "2024-02-29T04:34:49.309Z"
   },
   {
    "duration": 15,
    "start_time": "2024-02-29T04:34:49.370Z"
   },
   {
    "duration": 3,
    "start_time": "2024-02-29T04:34:49.387Z"
   },
   {
    "duration": 18,
    "start_time": "2024-02-29T04:34:49.394Z"
   },
   {
    "duration": 27,
    "start_time": "2024-02-29T04:34:49.413Z"
   },
   {
    "duration": 46,
    "start_time": "2024-02-29T04:34:49.441Z"
   },
   {
    "duration": 3,
    "start_time": "2024-02-29T04:34:49.489Z"
   },
   {
    "duration": 10,
    "start_time": "2024-02-29T04:34:49.494Z"
   },
   {
    "duration": 9,
    "start_time": "2024-02-29T04:34:49.506Z"
   },
   {
    "duration": 3,
    "start_time": "2024-02-29T04:34:49.517Z"
   },
   {
    "duration": 47,
    "start_time": "2024-02-29T04:34:49.521Z"
   },
   {
    "duration": 15,
    "start_time": "2024-02-29T04:34:49.570Z"
   },
   {
    "duration": 81,
    "start_time": "2024-02-29T04:34:49.587Z"
   },
   {
    "duration": 0,
    "start_time": "2024-02-29T04:34:49.669Z"
   },
   {
    "duration": 0,
    "start_time": "2024-02-29T04:34:49.670Z"
   },
   {
    "duration": 0,
    "start_time": "2024-02-29T04:34:49.672Z"
   },
   {
    "duration": 15,
    "start_time": "2024-02-29T04:35:23.669Z"
   },
   {
    "duration": 7,
    "start_time": "2024-02-29T04:51:38.000Z"
   },
   {
    "duration": 3,
    "start_time": "2024-02-29T04:51:45.478Z"
   },
   {
    "duration": 4,
    "start_time": "2024-02-29T04:51:54.520Z"
   },
   {
    "duration": 9,
    "start_time": "2024-02-29T04:51:57.668Z"
   },
   {
    "duration": 6,
    "start_time": "2024-02-29T04:52:36.756Z"
   },
   {
    "duration": 3,
    "start_time": "2024-02-29T04:53:07.400Z"
   },
   {
    "duration": 9,
    "start_time": "2024-02-29T04:54:41.246Z"
   },
   {
    "duration": 7,
    "start_time": "2024-02-29T04:54:53.386Z"
   },
   {
    "duration": 8,
    "start_time": "2024-02-29T04:55:09.036Z"
   },
   {
    "duration": 8,
    "start_time": "2024-02-29T04:55:14.145Z"
   },
   {
    "duration": 26,
    "start_time": "2024-02-29T04:56:41.408Z"
   },
   {
    "duration": 15,
    "start_time": "2024-02-29T04:57:40.795Z"
   },
   {
    "duration": 20,
    "start_time": "2024-02-29T04:58:22.099Z"
   },
   {
    "duration": 11,
    "start_time": "2024-02-29T05:01:04.182Z"
   },
   {
    "duration": 11,
    "start_time": "2024-02-29T05:01:40.914Z"
   },
   {
    "duration": 10,
    "start_time": "2024-02-29T05:01:58.235Z"
   },
   {
    "duration": 10,
    "start_time": "2024-02-29T05:03:13.525Z"
   },
   {
    "duration": 5,
    "start_time": "2024-02-29T05:04:27.407Z"
   },
   {
    "duration": 7,
    "start_time": "2024-02-29T05:04:34.747Z"
   },
   {
    "duration": 10,
    "start_time": "2024-02-29T05:07:51.596Z"
   },
   {
    "duration": 7,
    "start_time": "2024-02-29T05:07:55.420Z"
   },
   {
    "duration": 13,
    "start_time": "2024-02-29T05:08:10.853Z"
   },
   {
    "duration": 5,
    "start_time": "2024-02-29T05:09:06.371Z"
   },
   {
    "duration": 11,
    "start_time": "2024-02-29T05:11:27.366Z"
   },
   {
    "duration": 12,
    "start_time": "2024-02-29T05:14:26.847Z"
   },
   {
    "duration": 10,
    "start_time": "2024-02-29T05:15:04.555Z"
   },
   {
    "duration": 11,
    "start_time": "2024-02-29T05:15:15.078Z"
   },
   {
    "duration": 65,
    "start_time": "2024-02-29T19:31:50.585Z"
   },
   {
    "duration": 74,
    "start_time": "2024-02-29T20:36:48.115Z"
   },
   {
    "duration": 3,
    "start_time": "2024-02-29T20:36:56.505Z"
   },
   {
    "duration": 37,
    "start_time": "2024-02-29T20:37:48.276Z"
   },
   {
    "duration": 4,
    "start_time": "2024-02-29T20:37:54.384Z"
   },
   {
    "duration": 612,
    "start_time": "2024-02-29T20:38:02.588Z"
   },
   {
    "duration": 17,
    "start_time": "2024-02-29T20:38:03.201Z"
   },
   {
    "duration": 11,
    "start_time": "2024-02-29T20:38:03.219Z"
   },
   {
    "duration": 7,
    "start_time": "2024-02-29T20:38:03.231Z"
   },
   {
    "duration": 36,
    "start_time": "2024-02-29T20:38:03.239Z"
   },
   {
    "duration": 2,
    "start_time": "2024-02-29T20:38:03.276Z"
   },
   {
    "duration": 31,
    "start_time": "2024-02-29T20:38:03.279Z"
   },
   {
    "duration": 3,
    "start_time": "2024-02-29T20:38:03.311Z"
   },
   {
    "duration": 5,
    "start_time": "2024-02-29T20:38:03.315Z"
   },
   {
    "duration": 3,
    "start_time": "2024-02-29T20:38:03.322Z"
   },
   {
    "duration": 34,
    "start_time": "2024-02-29T20:38:03.326Z"
   },
   {
    "duration": 7,
    "start_time": "2024-02-29T20:38:03.361Z"
   },
   {
    "duration": 24,
    "start_time": "2024-02-29T20:38:03.368Z"
   },
   {
    "duration": 41,
    "start_time": "2024-02-29T20:38:03.393Z"
   },
   {
    "duration": 38,
    "start_time": "2024-02-29T20:38:03.435Z"
   },
   {
    "duration": 26,
    "start_time": "2024-02-29T20:38:03.474Z"
   },
   {
    "duration": 19,
    "start_time": "2024-02-29T20:38:03.501Z"
   },
   {
    "duration": 39,
    "start_time": "2024-02-29T20:38:03.521Z"
   },
   {
    "duration": 35,
    "start_time": "2024-02-29T20:38:03.561Z"
   },
   {
    "duration": 22,
    "start_time": "2024-02-29T20:38:03.597Z"
   },
   {
    "duration": 11,
    "start_time": "2024-02-29T20:38:03.620Z"
   },
   {
    "duration": 68,
    "start_time": "2024-02-29T20:38:03.632Z"
   },
   {
    "duration": 111,
    "start_time": "2024-02-29T20:38:03.701Z"
   },
   {
    "duration": 62,
    "start_time": "2024-02-29T20:38:03.813Z"
   },
   {
    "duration": 104,
    "start_time": "2024-02-29T20:38:03.877Z"
   },
   {
    "duration": 16,
    "start_time": "2024-02-29T20:38:03.982Z"
   },
   {
    "duration": 25,
    "start_time": "2024-02-29T20:38:03.999Z"
   },
   {
    "duration": 101,
    "start_time": "2024-02-29T20:38:04.026Z"
   },
   {
    "duration": 129,
    "start_time": "2024-02-29T20:38:04.128Z"
   },
   {
    "duration": 6,
    "start_time": "2024-02-29T20:38:24.160Z"
   },
   {
    "duration": 14,
    "start_time": "2024-02-29T20:39:22.471Z"
   },
   {
    "duration": 70,
    "start_time": "2024-02-29T20:42:07.606Z"
   },
   {
    "duration": 10,
    "start_time": "2024-02-29T20:43:15.684Z"
   },
   {
    "duration": 10,
    "start_time": "2024-02-29T20:43:27.627Z"
   },
   {
    "duration": 93,
    "start_time": "2024-02-29T20:43:36.119Z"
   },
   {
    "duration": 11,
    "start_time": "2024-02-29T20:43:41.781Z"
   },
   {
    "duration": 10,
    "start_time": "2024-02-29T20:45:21.923Z"
   },
   {
    "duration": 7,
    "start_time": "2024-02-29T20:45:30.850Z"
   },
   {
    "duration": 68,
    "start_time": "2024-02-29T20:47:31.620Z"
   },
   {
    "duration": 78,
    "start_time": "2024-02-29T21:02:56.145Z"
   },
   {
    "duration": 7,
    "start_time": "2024-02-29T21:24:57.237Z"
   },
   {
    "duration": 81,
    "start_time": "2024-03-04T06:56:32.058Z"
   },
   {
    "duration": 48,
    "start_time": "2024-03-04T07:39:26.864Z"
   },
   {
    "duration": 757,
    "start_time": "2024-03-04T07:39:32.693Z"
   },
   {
    "duration": 23,
    "start_time": "2024-03-04T07:39:33.453Z"
   },
   {
    "duration": 51,
    "start_time": "2024-03-04T07:39:33.481Z"
   },
   {
    "duration": 33,
    "start_time": "2024-03-04T07:39:33.534Z"
   },
   {
    "duration": 71,
    "start_time": "2024-03-04T07:39:33.569Z"
   },
   {
    "duration": 3,
    "start_time": "2024-03-04T07:39:33.642Z"
   },
   {
    "duration": 17,
    "start_time": "2024-03-04T07:39:33.647Z"
   },
   {
    "duration": 21,
    "start_time": "2024-03-04T07:39:33.666Z"
   },
   {
    "duration": 21,
    "start_time": "2024-03-04T07:39:33.691Z"
   },
   {
    "duration": 26,
    "start_time": "2024-03-04T07:39:33.714Z"
   },
   {
    "duration": 65,
    "start_time": "2024-03-04T07:39:33.742Z"
   },
   {
    "duration": 26,
    "start_time": "2024-03-04T07:39:33.809Z"
   },
   {
    "duration": 93,
    "start_time": "2024-03-04T07:39:33.837Z"
   },
   {
    "duration": 47,
    "start_time": "2024-03-04T07:39:33.932Z"
   },
   {
    "duration": 87,
    "start_time": "2024-03-04T07:39:33.981Z"
   },
   {
    "duration": 19,
    "start_time": "2024-03-04T07:39:34.070Z"
   },
   {
    "duration": 4,
    "start_time": "2024-03-04T07:39:34.090Z"
   },
   {
    "duration": 25,
    "start_time": "2024-03-04T07:39:34.095Z"
   },
   {
    "duration": 17,
    "start_time": "2024-03-04T07:39:34.122Z"
   },
   {
    "duration": 14,
    "start_time": "2024-03-04T07:39:34.141Z"
   },
   {
    "duration": 19,
    "start_time": "2024-03-04T07:39:34.157Z"
   },
   {
    "duration": 16,
    "start_time": "2024-03-04T07:39:34.178Z"
   },
   {
    "duration": 31,
    "start_time": "2024-03-04T07:39:34.196Z"
   },
   {
    "duration": 11,
    "start_time": "2024-03-04T07:39:34.229Z"
   },
   {
    "duration": 107,
    "start_time": "2024-03-04T07:39:34.242Z"
   },
   {
    "duration": 0,
    "start_time": "2024-03-04T07:39:34.351Z"
   },
   {
    "duration": 0,
    "start_time": "2024-03-04T07:39:34.353Z"
   },
   {
    "duration": 0,
    "start_time": "2024-03-04T07:39:34.354Z"
   },
   {
    "duration": 0,
    "start_time": "2024-03-04T07:39:34.356Z"
   },
   {
    "duration": 0,
    "start_time": "2024-03-04T07:39:34.357Z"
   },
   {
    "duration": 0,
    "start_time": "2024-03-04T07:39:34.359Z"
   },
   {
    "duration": 23,
    "start_time": "2024-03-04T07:40:00.419Z"
   },
   {
    "duration": 534,
    "start_time": "2024-03-04T07:40:23.697Z"
   },
   {
    "duration": 23,
    "start_time": "2024-03-04T07:40:24.233Z"
   },
   {
    "duration": 18,
    "start_time": "2024-03-04T07:40:24.257Z"
   },
   {
    "duration": 21,
    "start_time": "2024-03-04T07:40:24.278Z"
   },
   {
    "duration": 50,
    "start_time": "2024-03-04T07:40:24.301Z"
   },
   {
    "duration": 3,
    "start_time": "2024-03-04T07:40:24.353Z"
   },
   {
    "duration": 13,
    "start_time": "2024-03-04T07:40:24.358Z"
   },
   {
    "duration": 18,
    "start_time": "2024-03-04T07:40:24.373Z"
   },
   {
    "duration": 13,
    "start_time": "2024-03-04T07:40:24.393Z"
   },
   {
    "duration": 14,
    "start_time": "2024-03-04T07:40:24.410Z"
   },
   {
    "duration": 50,
    "start_time": "2024-03-04T07:40:24.426Z"
   },
   {
    "duration": 16,
    "start_time": "2024-03-04T07:40:24.478Z"
   },
   {
    "duration": 15,
    "start_time": "2024-03-04T07:40:24.496Z"
   },
   {
    "duration": 42,
    "start_time": "2024-03-04T07:40:24.513Z"
   },
   {
    "duration": 53,
    "start_time": "2024-03-04T07:40:24.556Z"
   },
   {
    "duration": 19,
    "start_time": "2024-03-04T07:40:24.610Z"
   },
   {
    "duration": 22,
    "start_time": "2024-03-04T07:40:24.631Z"
   },
   {
    "duration": 36,
    "start_time": "2024-03-04T07:40:24.654Z"
   },
   {
    "duration": 59,
    "start_time": "2024-03-04T07:40:24.692Z"
   },
   {
    "duration": 12,
    "start_time": "2024-03-04T07:40:24.753Z"
   },
   {
    "duration": 73,
    "start_time": "2024-03-04T07:40:24.768Z"
   },
   {
    "duration": 40,
    "start_time": "2024-03-04T07:40:24.843Z"
   },
   {
    "duration": 27,
    "start_time": "2024-03-04T07:40:24.886Z"
   },
   {
    "duration": 23,
    "start_time": "2024-03-04T07:40:24.915Z"
   },
   {
    "duration": 112,
    "start_time": "2024-03-04T07:40:24.940Z"
   },
   {
    "duration": 0,
    "start_time": "2024-03-04T07:40:25.054Z"
   },
   {
    "duration": 0,
    "start_time": "2024-03-04T07:40:25.055Z"
   },
   {
    "duration": 0,
    "start_time": "2024-03-04T07:40:25.056Z"
   },
   {
    "duration": 0,
    "start_time": "2024-03-04T07:40:25.057Z"
   },
   {
    "duration": 0,
    "start_time": "2024-03-04T07:40:25.058Z"
   },
   {
    "duration": 0,
    "start_time": "2024-03-04T07:40:25.059Z"
   },
   {
    "duration": 17,
    "start_time": "2024-03-04T07:43:16.119Z"
   },
   {
    "duration": 8,
    "start_time": "2024-03-04T07:47:27.927Z"
   },
   {
    "duration": 15,
    "start_time": "2024-03-04T07:47:33.934Z"
   },
   {
    "duration": 24,
    "start_time": "2024-03-04T07:48:08.539Z"
   },
   {
    "duration": 4,
    "start_time": "2024-03-04T07:48:22.067Z"
   },
   {
    "duration": 26,
    "start_time": "2024-03-04T07:48:25.552Z"
   },
   {
    "duration": 18,
    "start_time": "2024-03-04T08:07:00.079Z"
   },
   {
    "duration": 16,
    "start_time": "2024-03-04T08:07:40.986Z"
   },
   {
    "duration": 44,
    "start_time": "2024-03-04T08:07:54.628Z"
   },
   {
    "duration": 162,
    "start_time": "2024-03-04T08:22:11.877Z"
   },
   {
    "duration": 95,
    "start_time": "2024-03-04T08:23:09.902Z"
   },
   {
    "duration": 11,
    "start_time": "2024-03-04T08:23:30.966Z"
   },
   {
    "duration": 19,
    "start_time": "2024-03-04T08:24:09.820Z"
   },
   {
    "duration": 18,
    "start_time": "2024-03-04T08:24:14.930Z"
   },
   {
    "duration": 22,
    "start_time": "2024-03-04T08:24:20.331Z"
   },
   {
    "duration": 22,
    "start_time": "2024-03-04T08:24:23.828Z"
   },
   {
    "duration": 15,
    "start_time": "2024-03-04T08:24:26.972Z"
   },
   {
    "duration": 18,
    "start_time": "2024-03-04T08:26:25.038Z"
   },
   {
    "duration": 13,
    "start_time": "2024-03-04T09:00:04.714Z"
   },
   {
    "duration": 20,
    "start_time": "2024-03-04T09:01:17.474Z"
   },
   {
    "duration": 19,
    "start_time": "2024-03-04T09:01:26.028Z"
   },
   {
    "duration": 20,
    "start_time": "2024-03-04T09:01:32.153Z"
   },
   {
    "duration": 19,
    "start_time": "2024-03-04T09:01:34.994Z"
   },
   {
    "duration": 20,
    "start_time": "2024-03-04T09:01:51.146Z"
   },
   {
    "duration": 21,
    "start_time": "2024-03-04T09:02:23.109Z"
   },
   {
    "duration": 19,
    "start_time": "2024-03-04T09:06:40.359Z"
   },
   {
    "duration": 20,
    "start_time": "2024-03-04T09:06:51.893Z"
   },
   {
    "duration": 20,
    "start_time": "2024-03-04T09:07:12.097Z"
   },
   {
    "duration": 18,
    "start_time": "2024-03-04T09:10:47.823Z"
   },
   {
    "duration": 103,
    "start_time": "2024-03-04T18:11:29.549Z"
   }
  ],
  "colab": {
   "name": "dpp_template_part2.ipynb",
   "provenance": []
  },
  "kernelspec": {
   "display_name": "Python 3 (ipykernel)",
   "language": "python",
   "name": "python3"
  },
  "language_info": {
   "codemirror_mode": {
    "name": "ipython",
    "version": 3
   },
   "file_extension": ".py",
   "mimetype": "text/x-python",
   "name": "python",
   "nbconvert_exporter": "python",
   "pygments_lexer": "ipython3",
   "version": "3.9.5"
  },
  "toc": {
   "base_numbering": 1,
   "nav_menu": {},
   "number_sections": true,
   "sideBar": true,
   "skip_h1_title": true,
   "title_cell": "Table of Contents",
   "title_sidebar": "Contents",
   "toc_cell": false,
   "toc_position": {},
   "toc_section_display": true,
   "toc_window_display": false
  }
 },
 "nbformat": 4,
 "nbformat_minor": 5
}
